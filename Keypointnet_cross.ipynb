{
 "cells": [
  {
   "cell_type": "code",
   "execution_count": 21,
   "metadata": {},
   "outputs": [
    {
     "name": "stdout",
     "output_type": "stream",
     "text": [
      "Writing gen_cross.py\n"
     ]
    }
   ],
   "source": [
    "%%writefile gen_cross.py\n",
    "from __future__ import absolute_import\n",
    "from __future__ import division\n",
    "from __future__ import print_function\n",
    "\n",
    "import math\n",
    "import numpy as np\n",
    "import os\n",
    "import re\n",
    "import tensorflow as tf\n",
    "import tensorflow.contrib.slim as slim\n",
    "import time\n",
    "import traceback\n",
    "import matplotlib.pyplot as plt\n",
    "from shutil import copyfile\n",
    "import random\n",
    "\n",
    "vh = vw = 128\n",
    "batch_size = 32\n",
    "\n",
    "dset = \"/home/paperspace/zen/6dof/6dof_data/cars_with_keypoints\"\n",
    "output_dir = \"test_car/\"\n",
    "\n",
    "with open(os.path.join(dset, \"test.txt\"), \"r\") as f:\n",
    "    testset = [x.strip() for x in f.readlines()]\n",
    "\n",
    "files = os.listdir(dset)\n",
    "filenames = []\n",
    "for f in files:\n",
    "    sp = os.path.splitext(f)\n",
    "    if sp[1] == \".tfrecord\" and sp[0] in testset:\n",
    "        filenames.append(os.path.join(dset, f))\n",
    "\n",
    "print(filenames)\n",
    "\n",
    "def parser_test(serialized_example):\n",
    "    \"\"\"Parses a single tf.Example into image and label tensors.\"\"\"\n",
    "    fs = tf.parse_single_example(\n",
    "        serialized_example,\n",
    "        features={\n",
    "            \"img0\": tf.FixedLenFeature([], tf.string),\n",
    "            \"img1\": tf.FixedLenFeature([], tf.string),\n",
    "            \"mv0\": tf.FixedLenFeature([16], tf.float32),\n",
    "            \"mvi0\": tf.FixedLenFeature([16], tf.float32),\n",
    "            \"mv1\": tf.FixedLenFeature([16], tf.float32),\n",
    "            \"mvi1\": tf.FixedLenFeature([16], tf.float32),\n",
    "        })\n",
    "\n",
    "    return fs\n",
    "\n",
    "\n",
    "if not os.path.exists(output_dir):\n",
    "        os.mkdir(output_dir)\n",
    "record_name = output_dir + '{0:04}'.format(0) + \".tfrecord\"\n",
    "\n",
    "def bytes_feature(values):\n",
    "    return tf.train.Feature(bytes_list=tf.train.BytesList(value=[values]))\n",
    "\n",
    "def write_pair(tfrecord_writer, data_1, data_2):\n",
    "    st0 = data_1[\"img0\"][0]\n",
    "    st1 = data_2[\"img0\"][0]\n",
    "    \n",
    "    example1 = tf.train.Example(features=tf.train.Features(feature={\n",
    "        'img0': bytes_feature(st0),\n",
    "        'img1': bytes_feature(st1),\n",
    "        'mv0': tf.train.Feature(\n",
    "            float_list=tf.train.FloatList(value=data_1[\"mv0\"][0])),\n",
    "        'mvi0': tf.train.Feature(\n",
    "            float_list=tf.train.FloatList(value=data_1[\"mvi0\"][0])),\n",
    "        'mv1': tf.train.Feature(\n",
    "            float_list=tf.train.FloatList(value=data_2[\"mv0\"][0])),\n",
    "        'mvi1': tf.train.Feature(\n",
    "            float_list=tf.train.FloatList(value=data_2[\"mvi0\"][0])),\n",
    "    }))\n",
    "    \n",
    "    st0 = data_1[\"img1\"][0]\n",
    "    st1 = data_2[\"img1\"][0]\n",
    "\n",
    "    example2 = tf.train.Example(features=tf.train.Features(feature={\n",
    "        'img0': bytes_feature(st0),\n",
    "        'img1': bytes_feature(st1),\n",
    "        'mv0': tf.train.Feature(\n",
    "            float_list=tf.train.FloatList(value=data_1[\"mv1\"][0])),\n",
    "        'mvi0': tf.train.Feature(\n",
    "            float_list=tf.train.FloatList(value=data_1[\"mvi1\"][0])),\n",
    "        'mv1': tf.train.Feature(\n",
    "            float_list=tf.train.FloatList(value=data_2[\"mv1\"][0])),\n",
    "        'mvi1': tf.train.Feature(\n",
    "            float_list=tf.train.FloatList(value=data_2[\"mvi1\"][0])),\n",
    "    }))\n",
    "    if random.random() > 0.5:\n",
    "        tfrecord_writer.write(example1.SerializeToString())\n",
    "    else:\n",
    "        tfrecord_writer.write(example2.SerializeToString())\n",
    "    \n",
    "    \n",
    "data = []\n",
    "for i in range(len(filenames)):\n",
    "    print(filenames[i])\n",
    "    dataset = tf.data.TFRecordDataset([filenames[i]])\n",
    "    dataset = dataset.map(parser_test, num_parallel_calls=4)\n",
    "    dataset = dataset.repeat(1).batch(1)\n",
    "    dataset = dataset.prefetch(buffer_size=256)\n",
    "    gen = dataset.make_one_shot_iterator().get_next()\n",
    "    with tf.Session() as sess:\n",
    "        while True:\n",
    "            try:\n",
    "                val = sess.run(gen)\n",
    "                data.append(val)\n",
    "            except:\n",
    "                break\n",
    "                \n",
    "data = np.array(data)\n",
    "\n",
    "record_name = \"0065.tfrecord\"\n",
    "def write_tf(data):\n",
    "    for record_idx in range(0, int(len(data)/4000)):\n",
    "        record_name = output_dir + filenames[record_idx].split(\"/\")[-1]\n",
    "        print(record_name)\n",
    "        with tf.python_io.TFRecordWriter(record_name) as tfrecord_writer:\n",
    "            with tf.Graph().as_default():\n",
    "                for i in range(40):\n",
    "                    subset = np.ones((len(data)), dtype=bool)\n",
    "                    subset[i:i+100] = False\n",
    "                    data_pair_1 = random.sample(list(data[subset]), 100)\n",
    "                    np.invert(subset)\n",
    "                    data_pair_2 = data[subset]\n",
    "                    for idx in range(100):\n",
    "                        data_1 = data_pair_1[idx]\n",
    "                        data_2 = data_pair_2[idx]\n",
    "                        write_pair(tfrecord_writer, data_1, data_2)\n",
    "\n",
    "write_tf(data)\n",
    "\n",
    "\n",
    "\n",
    "f_test = open(output_dir + \"test.txt\", \"w+\")\n",
    "for i in testset:\n",
    "    f_test.write(i + \"\\n\")\n",
    "f_valid = open(output_dir + \"dev.txt\", \"w+\")\n",
    "f_test.close()\n",
    "f_valid.close()\n",
    "\n",
    "copyfile(dset + \"/projection.txt\", output_dir + \"projection.txt\")\n"
   ]
  },
  {
   "cell_type": "code",
   "execution_count": 12,
   "metadata": {},
   "outputs": [],
   "source": []
  },
  {
   "cell_type": "code",
   "execution_count": null,
   "metadata": {},
   "outputs": [],
   "source": []
  },
  {
   "cell_type": "code",
   "execution_count": null,
   "metadata": {},
   "outputs": [],
   "source": []
  },
  {
   "cell_type": "code",
   "execution_count": null,
   "metadata": {},
   "outputs": [],
   "source": []
  },
  {
   "cell_type": "code",
   "execution_count": null,
   "metadata": {},
   "outputs": [],
   "source": []
  },
  {
   "cell_type": "code",
   "execution_count": 22,
   "metadata": {
    "scrolled": false
   },
   "outputs": [
    {
     "data": {
      "image/png": "[encoded data removed]",
      "text/plain": [
       "<Figure size 432x288 with 1 Axes>"
      ]
     },
     "metadata": {},
     "output_type": "display_data"
    },
    {
     "data": {
      "image/png": "[encoded data removed]",
      "text/plain": [
       "<Figure size 432x288 with 1 Axes>"
      ]
     },
     "metadata": {},
     "output_type": "display_data"
    }
   ],
   "source": [
    "i = \"test_car/0065.tfrecord\"\n",
    "dataset = tf.data.TFRecordDataset([i])\n",
    "dataset = dataset.map(parser, num_parallel_calls=4)\n",
    "dataset = dataset.repeat(1).batch(1)\n",
    "dataset = dataset.prefetch(buffer_size=256)\n",
    "gen = dataset.make_one_shot_iterator().get_next()\n",
    "data = []\n",
    "with tf.Session() as sess:\n",
    "    val = sess.run(gen)\n",
    "    plt.imshow(val['img0'][0])\n",
    "    plt.show()\n",
    "    plt.imshow(val['img1'][0])\n",
    "    plt.show()"
   ]
  },
  {
   "cell_type": "code",
   "execution_count": 99,
   "metadata": {},
   "outputs": [],
   "source": []
  },
  {
   "cell_type": "code",
   "execution_count": 130,
   "metadata": {},
   "outputs": [
    {
     "name": "stdout",
     "output_type": "stream",
     "text": [
      "test_car/0065.tfrecord\n",
      "test_car/0145.tfrecord\n",
      "test_car/0170.tfrecord\n",
      "test_car/0063.tfrecord\n",
      "test_car/0019.tfrecord\n",
      "test_car/0049.tfrecord\n",
      "test_car/0018.tfrecord\n",
      "test_car/0036.tfrecord\n",
      "test_car/0079.tfrecord\n",
      "test_car/0141.tfrecord\n",
      "test_car/0176.tfrecord\n",
      "test_car/0061.tfrecord\n",
      "test_car/0093.tfrecord\n",
      "test_car/0099.tfrecord\n",
      "test_car/0179.tfrecord\n",
      "test_car/0144.tfrecord\n",
      "test_car/0029.tfrecord\n",
      "test_car/0142.tfrecord\n"
     ]
    }
   ],
   "source": []
  },
  {
   "cell_type": "code",
   "execution_count": null,
   "metadata": {},
   "outputs": [],
   "source": []
  },
  {
   "cell_type": "code",
   "execution_count": null,
   "metadata": {},
   "outputs": [],
   "source": []
  },
  {
   "cell_type": "code",
   "execution_count": null,
   "metadata": {},
   "outputs": [],
   "source": []
  }
 ],
 "metadata": {
  "kernelspec": {
   "display_name": "Python 3",
   "language": "python",
   "name": "python3"
  },
  "language_info": {
   "codemirror_mode": {
    "name": "ipython",
    "version": 3
   },
   "file_extension": ".py",
   "mimetype": "text/x-python",
   "name": "python",
   "nbconvert_exporter": "python",
   "pygments_lexer": "ipython3",
   "version": "3.6.3"
  }
 },
 "nbformat": 4,
 "nbformat_minor": 2
}
